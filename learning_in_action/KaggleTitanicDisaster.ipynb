{
 "cells": [
  {
   "cell_type": "markdown",
   "metadata": {},
   "source": [
    "#  Kaggle泰坦尼克之灾 "
   ]
  },
  {
   "cell_type": "markdown",
   "metadata": {},
   "source": [
    "作者： 寒小阳\n",
    "时间：2015年11月。\n",
    "出处：http://blog.csdn.net/han_xiaoyang/article/details/49797143\n",
    "声明：版权所有，转载请注明出处，谢谢。\n"
   ]
  },
  {
   "cell_type": "code",
   "execution_count": 15,
   "metadata": {
    "collapsed": false
   },
   "outputs": [],
   "source": [
    "%matplotlib inline\n",
    "import pandas as pd #数据分析\n",
    "import numpy as np #科学计算\n",
    "from pandas import Series,DataFrame\n",
    "\n",
    "data_train = pd.read_csv(\"dataset/Train.csv\")\n"
   ]
  },
  {
   "cell_type": "code",
   "execution_count": 16,
   "metadata": {
    "collapsed": false,
    "scrolled": true
   },
   "outputs": [
    {
     "data": {
      "text/html": [
       "<div>\n",
       "<table border=\"1\" class=\"dataframe\">\n",
       "  <thead>\n",
       "    <tr style=\"text-align: right;\">\n",
       "      <th></th>\n",
       "      <th>PassengerId</th>\n",
       "      <th>Survived</th>\n",
       "      <th>Pclass</th>\n",
       "      <th>Age</th>\n",
       "      <th>SibSp</th>\n",
       "      <th>Parch</th>\n",
       "      <th>Fare</th>\n",
       "    </tr>\n",
       "  </thead>\n",
       "  <tbody>\n",
       "    <tr>\n",
       "      <th>count</th>\n",
       "      <td>891.000000</td>\n",
       "      <td>891.000000</td>\n",
       "      <td>891.000000</td>\n",
       "      <td>714.000000</td>\n",
       "      <td>891.000000</td>\n",
       "      <td>891.000000</td>\n",
       "      <td>891.000000</td>\n",
       "    </tr>\n",
       "    <tr>\n",
       "      <th>mean</th>\n",
       "      <td>446.000000</td>\n",
       "      <td>0.383838</td>\n",
       "      <td>2.308642</td>\n",
       "      <td>29.699118</td>\n",
       "      <td>0.523008</td>\n",
       "      <td>0.381594</td>\n",
       "      <td>32.204208</td>\n",
       "    </tr>\n",
       "    <tr>\n",
       "      <th>std</th>\n",
       "      <td>257.353842</td>\n",
       "      <td>0.486592</td>\n",
       "      <td>0.836071</td>\n",
       "      <td>14.526497</td>\n",
       "      <td>1.102743</td>\n",
       "      <td>0.806057</td>\n",
       "      <td>49.693429</td>\n",
       "    </tr>\n",
       "    <tr>\n",
       "      <th>min</th>\n",
       "      <td>1.000000</td>\n",
       "      <td>0.000000</td>\n",
       "      <td>1.000000</td>\n",
       "      <td>0.420000</td>\n",
       "      <td>0.000000</td>\n",
       "      <td>0.000000</td>\n",
       "      <td>0.000000</td>\n",
       "    </tr>\n",
       "    <tr>\n",
       "      <th>25%</th>\n",
       "      <td>223.500000</td>\n",
       "      <td>0.000000</td>\n",
       "      <td>2.000000</td>\n",
       "      <td>20.125000</td>\n",
       "      <td>0.000000</td>\n",
       "      <td>0.000000</td>\n",
       "      <td>7.910400</td>\n",
       "    </tr>\n",
       "    <tr>\n",
       "      <th>50%</th>\n",
       "      <td>446.000000</td>\n",
       "      <td>0.000000</td>\n",
       "      <td>3.000000</td>\n",
       "      <td>28.000000</td>\n",
       "      <td>0.000000</td>\n",
       "      <td>0.000000</td>\n",
       "      <td>14.454200</td>\n",
       "    </tr>\n",
       "    <tr>\n",
       "      <th>75%</th>\n",
       "      <td>668.500000</td>\n",
       "      <td>1.000000</td>\n",
       "      <td>3.000000</td>\n",
       "      <td>38.000000</td>\n",
       "      <td>1.000000</td>\n",
       "      <td>0.000000</td>\n",
       "      <td>31.000000</td>\n",
       "    </tr>\n",
       "    <tr>\n",
       "      <th>max</th>\n",
       "      <td>891.000000</td>\n",
       "      <td>1.000000</td>\n",
       "      <td>3.000000</td>\n",
       "      <td>80.000000</td>\n",
       "      <td>8.000000</td>\n",
       "      <td>6.000000</td>\n",
       "      <td>512.329200</td>\n",
       "    </tr>\n",
       "  </tbody>\n",
       "</table>\n",
       "</div>"
      ],
      "text/plain": [
       "       PassengerId    Survived      Pclass         Age       SibSp  \\\n",
       "count   891.000000  891.000000  891.000000  714.000000  891.000000   \n",
       "mean    446.000000    0.383838    2.308642   29.699118    0.523008   \n",
       "std     257.353842    0.486592    0.836071   14.526497    1.102743   \n",
       "min       1.000000    0.000000    1.000000    0.420000    0.000000   \n",
       "25%     223.500000    0.000000    2.000000   20.125000    0.000000   \n",
       "50%     446.000000    0.000000    3.000000   28.000000    0.000000   \n",
       "75%     668.500000    1.000000    3.000000   38.000000    1.000000   \n",
       "max     891.000000    1.000000    3.000000   80.000000    8.000000   \n",
       "\n",
       "            Parch        Fare  \n",
       "count  891.000000  891.000000  \n",
       "mean     0.381594   32.204208  \n",
       "std      0.806057   49.693429  \n",
       "min      0.000000    0.000000  \n",
       "25%      0.000000    7.910400  \n",
       "50%      0.000000   14.454200  \n",
       "75%      0.000000   31.000000  \n",
       "max      6.000000  512.329200  "
      ]
     },
     "execution_count": 16,
     "metadata": {},
     "output_type": "execute_result"
    }
   ],
   "source": [
    "data_train.describe()"
   ]
  },
  {
   "cell_type": "markdown",
   "metadata": {},
   "source": [
    "###### 2.1处理姓名\n",
    "将姓名分割成2 个变量\n",
    "* fm:family name \n",
    "* mname：MS ,MR,master,dr\n"
   ]
  },
  {
   "cell_type": "code",
   "execution_count": 17,
   "metadata": {
    "collapsed": false
   },
   "outputs": [
    {
     "name": "stdout",
     "output_type": "stream",
     "text": [
      "['Braund' 'Cumings' 'Heikkinen' 'Futrelle' 'Allen']\n",
      "['Kelly' 'Wilkes' 'Myles' 'Wirz' 'Hirvonen']\n",
      "875 667 352\n",
      "929 681 363\n",
      "17 9 18\n"
     ]
    },
    {
     "data": {
      "text/html": [
       "<div>\n",
       "<table border=\"1\" class=\"dataframe\">\n",
       "  <thead>\n",
       "    <tr style=\"text-align: right;\">\n",
       "      <th></th>\n",
       "      <th>PassengerId</th>\n",
       "      <th>Survived</th>\n",
       "      <th>Pclass</th>\n",
       "      <th>Age</th>\n",
       "      <th>SibSp</th>\n",
       "      <th>Parch</th>\n",
       "      <th>Fare</th>\n",
       "      <th>mname</th>\n",
       "      <th>ages</th>\n",
       "      <th>nname</th>\n",
       "      <th>nTicket</th>\n",
       "    </tr>\n",
       "  </thead>\n",
       "  <tbody>\n",
       "    <tr>\n",
       "      <th>count</th>\n",
       "      <td>891.000000</td>\n",
       "      <td>891.000000</td>\n",
       "      <td>891.000000</td>\n",
       "      <td>714.000000</td>\n",
       "      <td>891.000000</td>\n",
       "      <td>891.000000</td>\n",
       "      <td>891.000000</td>\n",
       "      <td>891.000000</td>\n",
       "      <td>714.000000</td>\n",
       "      <td>891.000000</td>\n",
       "      <td>891.000000</td>\n",
       "    </tr>\n",
       "    <tr>\n",
       "      <th>mean</th>\n",
       "      <td>446.000000</td>\n",
       "      <td>0.383838</td>\n",
       "      <td>2.308642</td>\n",
       "      <td>29.699118</td>\n",
       "      <td>0.523008</td>\n",
       "      <td>0.381594</td>\n",
       "      <td>32.204208</td>\n",
       "      <td>11.589226</td>\n",
       "      <td>2.525210</td>\n",
       "      <td>433.658810</td>\n",
       "      <td>473.795735</td>\n",
       "    </tr>\n",
       "    <tr>\n",
       "      <th>std</th>\n",
       "      <td>257.353842</td>\n",
       "      <td>0.486592</td>\n",
       "      <td>0.836071</td>\n",
       "      <td>14.526497</td>\n",
       "      <td>1.102743</td>\n",
       "      <td>0.806057</td>\n",
       "      <td>49.693429</td>\n",
       "      <td>5.159659</td>\n",
       "      <td>1.497097</td>\n",
       "      <td>248.715419</td>\n",
       "      <td>263.601872</td>\n",
       "    </tr>\n",
       "    <tr>\n",
       "      <th>min</th>\n",
       "      <td>1.000000</td>\n",
       "      <td>0.000000</td>\n",
       "      <td>1.000000</td>\n",
       "      <td>0.420000</td>\n",
       "      <td>0.000000</td>\n",
       "      <td>0.000000</td>\n",
       "      <td>0.000000</td>\n",
       "      <td>0.000000</td>\n",
       "      <td>0.000000</td>\n",
       "      <td>0.000000</td>\n",
       "      <td>0.000000</td>\n",
       "    </tr>\n",
       "    <tr>\n",
       "      <th>25%</th>\n",
       "      <td>223.500000</td>\n",
       "      <td>0.000000</td>\n",
       "      <td>2.000000</td>\n",
       "      <td>20.125000</td>\n",
       "      <td>0.000000</td>\n",
       "      <td>0.000000</td>\n",
       "      <td>7.910400</td>\n",
       "      <td>11.000000</td>\n",
       "      <td>2.000000</td>\n",
       "      <td>220.500000</td>\n",
       "      <td>247.500000</td>\n",
       "    </tr>\n",
       "    <tr>\n",
       "      <th>50%</th>\n",
       "      <td>446.000000</td>\n",
       "      <td>0.000000</td>\n",
       "      <td>3.000000</td>\n",
       "      <td>28.000000</td>\n",
       "      <td>0.000000</td>\n",
       "      <td>0.000000</td>\n",
       "      <td>14.454200</td>\n",
       "      <td>15.000000</td>\n",
       "      <td>2.000000</td>\n",
       "      <td>429.000000</td>\n",
       "      <td>481.000000</td>\n",
       "    </tr>\n",
       "    <tr>\n",
       "      <th>75%</th>\n",
       "      <td>668.500000</td>\n",
       "      <td>1.000000</td>\n",
       "      <td>3.000000</td>\n",
       "      <td>38.000000</td>\n",
       "      <td>1.000000</td>\n",
       "      <td>0.000000</td>\n",
       "      <td>31.000000</td>\n",
       "      <td>15.000000</td>\n",
       "      <td>3.000000</td>\n",
       "      <td>643.500000</td>\n",
       "      <td>693.500000</td>\n",
       "    </tr>\n",
       "    <tr>\n",
       "      <th>max</th>\n",
       "      <td>891.000000</td>\n",
       "      <td>1.000000</td>\n",
       "      <td>3.000000</td>\n",
       "      <td>80.000000</td>\n",
       "      <td>8.000000</td>\n",
       "      <td>6.000000</td>\n",
       "      <td>512.329200</td>\n",
       "      <td>17.000000</td>\n",
       "      <td>8.000000</td>\n",
       "      <td>873.000000</td>\n",
       "      <td>927.000000</td>\n",
       "    </tr>\n",
       "  </tbody>\n",
       "</table>\n",
       "</div>"
      ],
      "text/plain": [
       "       PassengerId    Survived      Pclass         Age       SibSp  \\\n",
       "count   891.000000  891.000000  891.000000  714.000000  891.000000   \n",
       "mean    446.000000    0.383838    2.308642   29.699118    0.523008   \n",
       "std     257.353842    0.486592    0.836071   14.526497    1.102743   \n",
       "min       1.000000    0.000000    1.000000    0.420000    0.000000   \n",
       "25%     223.500000    0.000000    2.000000   20.125000    0.000000   \n",
       "50%     446.000000    0.000000    3.000000   28.000000    0.000000   \n",
       "75%     668.500000    1.000000    3.000000   38.000000    1.000000   \n",
       "max     891.000000    1.000000    3.000000   80.000000    8.000000   \n",
       "\n",
       "            Parch        Fare       mname        ages       nname     nTicket  \n",
       "count  891.000000  891.000000  891.000000  714.000000  891.000000  891.000000  \n",
       "mean     0.381594   32.204208   11.589226    2.525210  433.658810  473.795735  \n",
       "std      0.806057   49.693429    5.159659    1.497097  248.715419  263.601872  \n",
       "min      0.000000    0.000000    0.000000    0.000000    0.000000    0.000000  \n",
       "25%      0.000000    7.910400   11.000000    2.000000  220.500000  247.500000  \n",
       "50%      0.000000   14.454200   15.000000    2.000000  429.000000  481.000000  \n",
       "75%      0.000000   31.000000   15.000000    3.000000  643.500000  693.500000  \n",
       "max      6.000000  512.329200   17.000000    8.000000  873.000000  927.000000  "
      ]
     },
     "execution_count": 17,
     "metadata": {},
     "output_type": "execute_result"
    }
   ],
   "source": [
    "data_train = pd.read_csv(\"dataset/Train.csv\")\n",
    "data_test = pd.read_csv(\"dataset/test.csv\")\n",
    "def changeage():\n",
    "    if x.mname=='Master':\n",
    "        return 0\n",
    "    else:\n",
    "        return x['ages']\n",
    "def proc(data):\n",
    "    data['fname']=data['Name'].apply(lambda x: x.split(',')[0])\n",
    "    data['mname']=data['Name'].apply(lambda x: x.split(',')[1].split('.')[0])\n",
    "\n",
    "\n",
    "#data_train.to_csv('traindata1.csv')\n",
    "    data['ages']=data['Age'].apply(lambda x: x//10)\n",
    "    data[data['ages']==None ]['ages']=data.apply(lambda x :0   ,axis=1)\n",
    "    return data\n",
    "\n",
    "data_train=proc(data_train)\n",
    "data_test=proc(data_test)\n",
    "print data_train.fname.head().values\n",
    "print data_test.fname.head().values\n",
    "\n",
    "\n",
    "namelist_train=set(data_train.fname.values)\n",
    "namelist_test=set(data_test.fname.values)\n",
    "namelist_all=namelist_train.union(namelist_test)\n",
    "print len(namelist_all),len(namelist_train),len(namelist_test)\n",
    "name_list={j:i    for i,j in enumerate(namelist_all)}\n",
    "#print name_list\n",
    "\n",
    "Ticket_list_train=set(data_train.Ticket.values)\n",
    "Ticket_list_test=set(data_test.Ticket.values)\n",
    "Ticket_list_all=Ticket_list_train.union(Ticket_list_test)\n",
    "print len(Ticket_list_all),len(Ticket_list_train),len(Ticket_list_test)\n",
    "Ticket_list={j:i    for i,j in enumerate(Ticket_list_all)}\n",
    "\n",
    "mname_list_train=set(data_train.mname.values)\n",
    "mname_list_test=set(data_test.mname.values)\n",
    "mname_list_all=mname_list_train.union(mname_list_test)\n",
    "print len(mname_list_train),len(mname_list_test),len(mname_list_all)\n",
    "mname_list={j:i    for i,j in enumerate(mname_list_all)}\n",
    "\n",
    "\n",
    "\n",
    "\n",
    "\n",
    "def changename(data):\n",
    "    data['nname']=data['fname'].apply(lambda x: name_list[x] )\n",
    "    data['nTicket']=data['Ticket'].apply(lambda x: Ticket_list[x] )\n",
    "    data['mname']=data['mname'].apply(lambda x: mname_list[x] )\n",
    "    \n",
    "    \n",
    "    return data\n",
    "\n",
    "data_train=changename(data_train)\n",
    "data_test=changename(data_test)\n",
    "\n",
    "def set_Cabin_type(df):\n",
    "    df.loc[ (df.Cabin.notnull()), 'Cabin' ] = 1\n",
    "    df.loc[ (df.Cabin.isnull()), 'Cabin' ] = 0\n",
    "    return df\n",
    "data_train=set_Cabin_type(data_train)\n",
    "data_test=set_Cabin_type(data_test)\n",
    "\n",
    "\n",
    "def set_sex_type(df):\n",
    "    \n",
    "    df.loc[ (df.Sex=='male' , 'Sex' )] =1\n",
    "    df.loc[ (df.Sex=='female' , 'Sex' )] =0\n",
    "    return df\n",
    "set_sex_type\n",
    "data_train=set_sex_type(data_train)\n",
    "data_test=set_sex_type(data_test)\n",
    "\n",
    "data_train.to_csv('data_train1.csv')\n",
    "data_test.to_csv('data_test1.csv')\n",
    "data_train.describe()"
   ]
  },
  {
   "cell_type": "markdown",
   "metadata": {},
   "source": [
    "先从最突出的数据属性开始吧，对，Cabin和Age，有丢失数据实在是对下一步工作影响太大。\n",
    "\n",
    "先说Cabin，暂时我们就按照刚才说的，按Cabin有无数据，将这个属性处理成Yes和No两种类型吧。\n",
    "\n",
    "再说Age：\n",
    "\n",
    "######  2.1缺值补全\n",
    "通常遇到缺值的情况，我们会有几种常见的处理方式\n",
    "> * 如果缺值的样本**占总数比例极高**，我们可能就直接舍弃了，作为特征加入的话，可能反倒带入noise，影响最后的结果了\n",
    "> * 如果缺值的样本**适中**，而该属性**非连续值**特征属性(比如说类目属性)，那就把**NaN作为一个新类别**，加到类别特征中\n",
    "> * 如果缺值的样本**适中**，而该属性为**连续值**特征属性，有时候我们会考虑给定一个step(比如这里的age，我们可以考虑每隔2/3岁为一个步长)，然后把它**离散化**，之后把**NaN作为一个type**加到属性类目中。\n",
    "> * 有些情况下，缺失的值个数并**不是特别多**，那我们也可以试着根据已有的值，**拟合**一下数据，补充上。\n"
   ]
  },
  {
   "cell_type": "markdown",
   "metadata": {},
   "source": [
    "本例中，后两种处理方式应该都是可行的，我们先试试***拟合补全***吧(虽然说没有特别多的背景可供我们拟合，这不一定是一个多么好的选择)\n",
    "\n",
    "我们这里用scikit-learn中的RandomForest来拟合一下缺失的年龄数据(注：RandomForest是一个用在原始数据中做不同采样，建立多颗DecisionTree，再进行average等等来降低过拟合现象，提高结果的机器学习算法，我们之后会介绍到)"
   ]
  },
  {
   "cell_type": "markdown",
   "metadata": {},
   "source": [
    "采用贝叶斯模型，补全年龄\n",
    "取用特征 mname，fname，Pclass，tickiet，Fare \n",
    "no \n",
    "\n",
    "第一步分割数据，trianset ，pridictset\n",
    "第二步，? 要不要交叉验证\n",
    "第三步  预测"
   ]
  },
  {
   "cell_type": "code",
   "execution_count": 18,
   "metadata": {
    "collapsed": false
   },
   "outputs": [],
   "source": [
    "from sklearn.naive_bayes import GaussianNB\n",
    "\n",
    "gnb = GaussianNB()\n",
    "\n",
    "def set_missing_ages(df):\n",
    "    \n",
    "\n",
    "    # 把已有的数值型特征取出来丢进Random Forest Regressor中\n",
    "    age_df = df[['ages','Fare', 'Parch', 'SibSp', 'Pclass','nname','nTicket']]\n",
    "    \n",
    "\n",
    "    # 乘客分成已知年龄和未知年龄两部分\n",
    "    known_ages = age_df[age_df.ages.notnull()].as_matrix()\n",
    "    unknown_ages = age_df[age_df.ages.isnull()].as_matrix()\n",
    "    \n",
    "    \n",
    "    \n",
    "\n",
    "    # y即目标年龄\n",
    "    y = known_ages[:, 0]\n",
    "    \n",
    "\n",
    "    # X即特征属性值\n",
    "    X = known_ages[:, 1:]\n",
    "\n",
    "    \n",
    "    gnb.fit(X, y)\n",
    "\n",
    "    # 用得到的模型进行未知年龄结果预测\n",
    "    \n",
    "    predictedAges = gnb.predict(unknown_ages[:, 1::])\n",
    "\n",
    "    # 用得到的预测结果填补原缺失数据\n",
    "    df.loc[ (df.ages.isnull()), 'ages' ] = predictedAges \n",
    "\n",
    "    return df\n",
    "\n",
    "data_train=set_missing_ages(data_train)\n",
    "data_train.head()\n",
    "data_train.to_csv('traindata1gnb.csv')\n",
    "data_test.describe()\n",
    "data_test=set_missing_ages(data_test)\n",
    "data_test.head()\n",
    "data_test.to_csv('testdata1gnb.csv')"
   ]
  },
  {
   "cell_type": "code",
   "execution_count": 19,
   "metadata": {
    "collapsed": false
   },
   "outputs": [
    {
     "name": "stdout",
     "output_type": "stream",
     "text": [
      "<class 'pandas.core.frame.DataFrame'>\n",
      "Int64Index: 891 entries, 0 to 890\n",
      "Data columns (total 17 columns):\n",
      "PassengerId    891 non-null int64\n",
      "Survived       891 non-null int64\n",
      "Pclass         891 non-null int64\n",
      "Name           891 non-null object\n",
      "Sex            891 non-null object\n",
      "Age            714 non-null float64\n",
      "SibSp          891 non-null int64\n",
      "Parch          891 non-null int64\n",
      "Ticket         891 non-null object\n",
      "Fare           891 non-null float64\n",
      "Cabin          891 non-null object\n",
      "Embarked       889 non-null object\n",
      "fname          891 non-null object\n",
      "mname          891 non-null int64\n",
      "ages           891 non-null float64\n",
      "nname          891 non-null int64\n",
      "nTicket        891 non-null int64\n",
      "dtypes: float64(3), int64(8), object(6)\n",
      "memory usage: 104.4+ KB\n",
      "None\n",
      "<class 'pandas.core.frame.DataFrame'>\n",
      "Int64Index: 418 entries, 0 to 417\n",
      "Data columns (total 16 columns):\n",
      "PassengerId    418 non-null int64\n",
      "Pclass         418 non-null int64\n",
      "Name           418 non-null object\n",
      "Sex            418 non-null object\n",
      "Age            332 non-null float64\n",
      "SibSp          418 non-null int64\n",
      "Parch          418 non-null int64\n",
      "Ticket         418 non-null object\n",
      "Fare           418 non-null float64\n",
      "Cabin          418 non-null object\n",
      "Embarked       418 non-null object\n",
      "fname          418 non-null object\n",
      "mname          418 non-null int64\n",
      "ages           418 non-null float64\n",
      "nname          418 non-null int64\n",
      "nTicket        418 non-null int64\n",
      "dtypes: float64(3), int64(7), object(6)\n",
      "memory usage: 45.7+ KB\n",
      "None\n"
     ]
    }
   ],
   "source": [
    "print data_train.info()\n",
    "print data_test.info()"
   ]
  },
  {
   "cell_type": "markdown",
   "metadata": {},
   "source": [
    "恩。目的达到，OK了。"
   ]
  },
  {
   "cell_type": "markdown",
   "metadata": {},
   "source": [
    "###### 2.2特征因子化\n",
    "因为逻辑回归建模时，需要输入的特征都是数值型特征，我们通常会先对类目型的因子化\n",
    "举个例子："
   ]
  },
  {
   "cell_type": "markdown",
   "metadata": {},
   "source": [
    "以Cabin为例，原本一个属性维度，因为其取值可以是[‘yes’,’no’]，而将其平展开为’Cabin_yes’,’Cabin_no’两个属性\n",
    "\n",
    "> * 原本Cabin取值为yes的，在此处的”Cabin_yes”下取值为1，在”Cabin_no”下取值为0\n",
    "> * 原本Cabin取值为no的，在此处的”Cabin_yes”下取值为0，在”Cabin_no”下取值为1\n",
    "\n",
    "我们使用pandas的”get_dummies”来完成这个工作，并拼接在原来的”data_train”之上，如下所示。"
   ]
  },
  {
   "cell_type": "code",
   "execution_count": 20,
   "metadata": {
    "collapsed": false
   },
   "outputs": [],
   "source": [
    "def dummiess(data):\n",
    "   \n",
    "\n",
    "    dummies_Embarked = pd.get_dummies(data['Embarked'], prefix= 'Embarked')\n",
    "\n",
    "    \n",
    "\n",
    "    dummies_Pclass = pd.get_dummies(data['Pclass'], prefix= 'Pclass')\n",
    "    \n",
    "\n",
    "    df = pd.concat([data, dummies_Embarked, dummies_Pclass], axis=1)\n",
    "    df.drop(['Pclass', 'Name', 'Ticket', 'Embarked','Age','fname',], axis=1, inplace=True)\n",
    "    return df\n",
    "data_train=dummiess(data_train)\n",
    "data_test=dummiess(data_test)\n",
    "\n"
   ]
  },
  {
   "cell_type": "code",
   "execution_count": 21,
   "metadata": {
    "collapsed": true
   },
   "outputs": [],
   "source": [
    "data_train.to_csv('traindatadummiess.csv')\n",
    "\n",
    "data_test.to_csv('testdatadummiess.csv')"
   ]
  },
  {
   "cell_type": "code",
   "execution_count": 22,
   "metadata": {
    "collapsed": false
   },
   "outputs": [
    {
     "name": "stdout",
     "output_type": "stream",
     "text": [
      "       PassengerId       SibSp       Parch        Fare       mname  \\\n",
      "count   418.000000  418.000000  418.000000  418.000000  418.000000   \n",
      "mean   1100.500000    0.447368    0.392344   35.590311   11.801435   \n",
      "std     120.810458    0.896760    0.981429   55.845590    4.953142   \n",
      "min     892.000000    0.000000    0.000000    0.000000    2.000000   \n",
      "25%     996.250000    0.000000    0.000000    7.895800   11.000000   \n",
      "50%    1100.500000    0.000000    0.000000   14.454200   15.000000   \n",
      "75%    1204.750000    1.000000    0.000000   31.471875   15.000000   \n",
      "max    1309.000000    8.000000    9.000000  512.329200   17.000000   \n",
      "\n",
      "             ages      nname     nTicket  Embarked_C  Embarked_Q  Embarked_S  \\\n",
      "count  418.000000  418.00000  418.000000  418.000000  418.000000  418.000000   \n",
      "mean     2.456938  435.95933  421.373206    0.244019    0.110048    0.645933   \n",
      "std      1.340858  253.58870  271.283881    0.430019    0.313324    0.478803   \n",
      "min      0.000000    0.00000    0.000000    0.000000    0.000000    0.000000   \n",
      "25%      2.000000  223.50000  182.000000    0.000000    0.000000    0.000000   \n",
      "50%      2.000000  412.50000  401.500000    0.000000    0.000000    1.000000   \n",
      "75%      3.000000  655.75000  644.000000    0.000000    0.000000    1.000000   \n",
      "max      7.000000  874.00000  928.000000    1.000000    1.000000    1.000000   \n",
      "\n",
      "         Pclass_1    Pclass_2    Pclass_3  \n",
      "count  418.000000  418.000000  418.000000  \n",
      "mean     0.255981    0.222488    0.521531  \n",
      "std      0.436934    0.416416    0.500135  \n",
      "min      0.000000    0.000000    0.000000  \n",
      "25%      0.000000    0.000000    0.000000  \n",
      "50%      0.000000    0.000000    1.000000  \n",
      "75%      1.000000    0.000000    1.000000  \n",
      "max      1.000000    1.000000    1.000000  \n",
      "=========================\n",
      "       PassengerId    Survived       SibSp       Parch        Fare  \\\n",
      "count   891.000000  891.000000  891.000000  891.000000  891.000000   \n",
      "mean    446.000000    0.383838    0.523008    0.381594   32.204208   \n",
      "std     257.353842    0.486592    1.102743    0.806057   49.693429   \n",
      "min       1.000000    0.000000    0.000000    0.000000    0.000000   \n",
      "25%     223.500000    0.000000    0.000000    0.000000    7.910400   \n",
      "50%     446.000000    0.000000    0.000000    0.000000   14.454200   \n",
      "75%     668.500000    1.000000    1.000000    0.000000   31.000000   \n",
      "max     891.000000    1.000000    8.000000    6.000000  512.329200   \n",
      "\n",
      "            mname        ages       nname     nTicket  Embarked_C  Embarked_Q  \\\n",
      "count  891.000000  891.000000  891.000000  891.000000  891.000000  891.000000   \n",
      "mean    11.589226    2.444444  433.658810  473.795735    0.188552    0.086420   \n",
      "std      5.159659    1.435505  248.715419  263.601872    0.391372    0.281141   \n",
      "min      0.000000    0.000000    0.000000    0.000000    0.000000    0.000000   \n",
      "25%     11.000000    2.000000  220.500000  247.500000    0.000000    0.000000   \n",
      "50%     15.000000    2.000000  429.000000  481.000000    0.000000    0.000000   \n",
      "75%     15.000000    3.000000  643.500000  693.500000    0.000000    0.000000   \n",
      "max     17.000000    8.000000  873.000000  927.000000    1.000000    1.000000   \n",
      "\n",
      "       Embarked_S    Pclass_1    Pclass_2    Pclass_3  \n",
      "count  891.000000  891.000000  891.000000  891.000000  \n",
      "mean     0.722783    0.242424    0.206510    0.551066  \n",
      "std      0.447876    0.428790    0.405028    0.497665  \n",
      "min      0.000000    0.000000    0.000000    0.000000  \n",
      "25%      0.000000    0.000000    0.000000    0.000000  \n",
      "50%      1.000000    0.000000    0.000000    1.000000  \n",
      "75%      1.000000    0.000000    0.000000    1.000000  \n",
      "max      1.000000    1.000000    1.000000    1.000000  \n"
     ]
    }
   ],
   "source": [
    "print data_test.describe()\n",
    "print '========================='\n",
    "\n",
    "print  data_train.describe()"
   ]
  },
  {
   "cell_type": "markdown",
   "metadata": {},
   "source": [
    "bingo，我们很成功地把这些类目属性全都转成0，1的数值属性了。\n",
    "这样，看起来，是不是我们需要的属性值都有了，且它们都是数值型属性呢。"
   ]
  },
  {
   "cell_type": "markdown",
   "metadata": {},
   "source": [
    "###### 2.3    [scaling] 将一些变化幅度较大的特征化到[-1,1]之内。"
   ]
  },
  {
   "cell_type": "code",
   "execution_count": 23,
   "metadata": {
    "collapsed": false
   },
   "outputs": [],
   "source": [
    "\n",
    "import sklearn.preprocessing as preprocessing\n",
    "def datascaling(df):\n",
    "\n",
    "    scaler = preprocessing.StandardScaler()\n",
    "    df_nname=df['nname'].reshape(-1, 1)\n",
    "    df_Fare=df['Fare'].reshape(-1, 1)  \n",
    "    df_nTicket=df['nTicket'].reshape(-1, 1)\n",
    "    df_mname=df['mname'].reshape(-1, 1)\n",
    "    \n",
    "    nname_scale_param = scaler.fit(df_nname)\n",
    "    df['nname_scaled'] = scaler.fit_transform(df_nname, nname_scale_param)\n",
    "    fare_scale_param = scaler.fit(df_Fare)\n",
    "    df['Fare_scaled'] = scaler.fit_transform(df_Fare, fare_scale_param)\n",
    "    nTicket_scale_param = scaler.fit(df_nTicket)\n",
    "    df['nTicket_scaled'] = scaler.fit_transform(df_nTicket, nTicket_scale_param)\n",
    "    \n",
    "    mname_scale_param = scaler.fit(df_mname)\n",
    "    df['mname_scaled'] = scaler.fit_transform(df_mname, mname_scale_param)\n",
    "    df.drop(['nname', 'Fare', 'nTicket','mname',], axis=1, inplace=True)\n",
    "    \n",
    "    return df\n",
    "data_train=datascaling(data_train)\n",
    "data_test=datascaling(data_test)"
   ]
  },
  {
   "cell_type": "code",
   "execution_count": 24,
   "metadata": {
    "collapsed": false
   },
   "outputs": [],
   "source": [
    "data_train.to_csv('traindataok.csv')\n",
    "\n",
    "data_test.to_csv('testdataok.csv')"
   ]
  },
  {
   "cell_type": "markdown",
   "metadata": {},
   "source": [
    "恩，好看多了，万事俱备，只欠建模。马上就要看到成效了，哈哈。我们把需要的属性值抽出来，转成scikit-learn里面LogisticRegression可以处理的格式"
   ]
  },
  {
   "cell_type": "markdown",
   "metadata": {},
   "source": [
    "# 3.逻辑回归建模"
   ]
  },
  {
   "cell_type": "markdown",
   "metadata": {},
   "source": [
    "我们把需要的feature字段取出来，转成numpy格式，使用scikit-learn中的LogisticRegression建模。\n",
    "#####  Baseline Model -logistic regression"
   ]
  },
  {
   "cell_type": "code",
   "execution_count": 25,
   "metadata": {
    "collapsed": false
   },
   "outputs": [
    {
     "data": {
      "text/html": [
       "<div>\n",
       "<table border=\"1\" class=\"dataframe\">\n",
       "  <thead>\n",
       "    <tr style=\"text-align: right;\">\n",
       "      <th></th>\n",
       "      <th>PassengerId</th>\n",
       "      <th>Survived</th>\n",
       "      <th>SibSp</th>\n",
       "      <th>Parch</th>\n",
       "      <th>ages</th>\n",
       "      <th>Embarked_C</th>\n",
       "      <th>Embarked_Q</th>\n",
       "      <th>Embarked_S</th>\n",
       "      <th>Pclass_1</th>\n",
       "      <th>Pclass_2</th>\n",
       "      <th>Pclass_3</th>\n",
       "      <th>nname_scaled</th>\n",
       "      <th>Fare_scaled</th>\n",
       "      <th>nTicket_scaled</th>\n",
       "      <th>mname_scaled</th>\n",
       "    </tr>\n",
       "  </thead>\n",
       "  <tbody>\n",
       "    <tr>\n",
       "      <th>count</th>\n",
       "      <td>891.000000</td>\n",
       "      <td>891.000000</td>\n",
       "      <td>891.000000</td>\n",
       "      <td>891.000000</td>\n",
       "      <td>891.000000</td>\n",
       "      <td>891.000000</td>\n",
       "      <td>891.000000</td>\n",
       "      <td>891.000000</td>\n",
       "      <td>891.000000</td>\n",
       "      <td>891.000000</td>\n",
       "      <td>891.000000</td>\n",
       "      <td>8.910000e+02</td>\n",
       "      <td>8.910000e+02</td>\n",
       "      <td>8.910000e+02</td>\n",
       "      <td>8.910000e+02</td>\n",
       "    </tr>\n",
       "    <tr>\n",
       "      <th>mean</th>\n",
       "      <td>446.000000</td>\n",
       "      <td>0.383838</td>\n",
       "      <td>0.523008</td>\n",
       "      <td>0.381594</td>\n",
       "      <td>2.444444</td>\n",
       "      <td>0.188552</td>\n",
       "      <td>0.086420</td>\n",
       "      <td>0.722783</td>\n",
       "      <td>0.242424</td>\n",
       "      <td>0.206510</td>\n",
       "      <td>0.551066</td>\n",
       "      <td>-8.223874e-17</td>\n",
       "      <td>-4.373606e-17</td>\n",
       "      <td>-1.031411e-16</td>\n",
       "      <td>1.467837e-16</td>\n",
       "    </tr>\n",
       "    <tr>\n",
       "      <th>std</th>\n",
       "      <td>257.353842</td>\n",
       "      <td>0.486592</td>\n",
       "      <td>1.102743</td>\n",
       "      <td>0.806057</td>\n",
       "      <td>1.435505</td>\n",
       "      <td>0.391372</td>\n",
       "      <td>0.281141</td>\n",
       "      <td>0.447876</td>\n",
       "      <td>0.428790</td>\n",
       "      <td>0.405028</td>\n",
       "      <td>0.497665</td>\n",
       "      <td>1.000562e+00</td>\n",
       "      <td>1.000562e+00</td>\n",
       "      <td>1.000562e+00</td>\n",
       "      <td>1.000562e+00</td>\n",
       "    </tr>\n",
       "    <tr>\n",
       "      <th>min</th>\n",
       "      <td>1.000000</td>\n",
       "      <td>0.000000</td>\n",
       "      <td>0.000000</td>\n",
       "      <td>0.000000</td>\n",
       "      <td>0.000000</td>\n",
       "      <td>0.000000</td>\n",
       "      <td>0.000000</td>\n",
       "      <td>0.000000</td>\n",
       "      <td>0.000000</td>\n",
       "      <td>0.000000</td>\n",
       "      <td>0.000000</td>\n",
       "      <td>-1.744574e+00</td>\n",
       "      <td>-6.484217e-01</td>\n",
       "      <td>-1.798401e+00</td>\n",
       "      <td>-2.247384e+00</td>\n",
       "    </tr>\n",
       "    <tr>\n",
       "      <th>25%</th>\n",
       "      <td>223.500000</td>\n",
       "      <td>0.000000</td>\n",
       "      <td>0.000000</td>\n",
       "      <td>0.000000</td>\n",
       "      <td>2.000000</td>\n",
       "      <td>0.000000</td>\n",
       "      <td>0.000000</td>\n",
       "      <td>0.000000</td>\n",
       "      <td>0.000000</td>\n",
       "      <td>0.000000</td>\n",
       "      <td>0.000000</td>\n",
       "      <td>-8.575203e-01</td>\n",
       "      <td>-4.891482e-01</td>\n",
       "      <td>-8.589576e-01</td>\n",
       "      <td>-1.142627e-01</td>\n",
       "    </tr>\n",
       "    <tr>\n",
       "      <th>50%</th>\n",
       "      <td>446.000000</td>\n",
       "      <td>0.000000</td>\n",
       "      <td>0.000000</td>\n",
       "      <td>0.000000</td>\n",
       "      <td>2.000000</td>\n",
       "      <td>0.000000</td>\n",
       "      <td>0.000000</td>\n",
       "      <td>1.000000</td>\n",
       "      <td>0.000000</td>\n",
       "      <td>0.000000</td>\n",
       "      <td>1.000000</td>\n",
       "      <td>-1.874201e-02</td>\n",
       "      <td>-3.573909e-01</td>\n",
       "      <td>2.734545e-02</td>\n",
       "      <td>6.614177e-01</td>\n",
       "    </tr>\n",
       "    <tr>\n",
       "      <th>75%</th>\n",
       "      <td>668.500000</td>\n",
       "      <td>1.000000</td>\n",
       "      <td>1.000000</td>\n",
       "      <td>0.000000</td>\n",
       "      <td>3.000000</td>\n",
       "      <td>0.000000</td>\n",
       "      <td>0.000000</td>\n",
       "      <td>1.000000</td>\n",
       "      <td>0.000000</td>\n",
       "      <td>0.000000</td>\n",
       "      <td>1.000000</td>\n",
       "      <td>8.441738e-01</td>\n",
       "      <td>-2.424635e-02</td>\n",
       "      <td>8.339382e-01</td>\n",
       "      <td>6.614177e-01</td>\n",
       "    </tr>\n",
       "    <tr>\n",
       "      <th>max</th>\n",
       "      <td>891.000000</td>\n",
       "      <td>1.000000</td>\n",
       "      <td>8.000000</td>\n",
       "      <td>6.000000</td>\n",
       "      <td>8.000000</td>\n",
       "      <td>1.000000</td>\n",
       "      <td>1.000000</td>\n",
       "      <td>1.000000</td>\n",
       "      <td>1.000000</td>\n",
       "      <td>1.000000</td>\n",
       "      <td>1.000000</td>\n",
       "      <td>1.767433e+00</td>\n",
       "      <td>9.667167e+00</td>\n",
       "      <td>1.720241e+00</td>\n",
       "      <td>1.049258e+00</td>\n",
       "    </tr>\n",
       "  </tbody>\n",
       "</table>\n",
       "</div>"
      ],
      "text/plain": [
       "       PassengerId    Survived       SibSp       Parch        ages  \\\n",
       "count   891.000000  891.000000  891.000000  891.000000  891.000000   \n",
       "mean    446.000000    0.383838    0.523008    0.381594    2.444444   \n",
       "std     257.353842    0.486592    1.102743    0.806057    1.435505   \n",
       "min       1.000000    0.000000    0.000000    0.000000    0.000000   \n",
       "25%     223.500000    0.000000    0.000000    0.000000    2.000000   \n",
       "50%     446.000000    0.000000    0.000000    0.000000    2.000000   \n",
       "75%     668.500000    1.000000    1.000000    0.000000    3.000000   \n",
       "max     891.000000    1.000000    8.000000    6.000000    8.000000   \n",
       "\n",
       "       Embarked_C  Embarked_Q  Embarked_S    Pclass_1    Pclass_2    Pclass_3  \\\n",
       "count  891.000000  891.000000  891.000000  891.000000  891.000000  891.000000   \n",
       "mean     0.188552    0.086420    0.722783    0.242424    0.206510    0.551066   \n",
       "std      0.391372    0.281141    0.447876    0.428790    0.405028    0.497665   \n",
       "min      0.000000    0.000000    0.000000    0.000000    0.000000    0.000000   \n",
       "25%      0.000000    0.000000    0.000000    0.000000    0.000000    0.000000   \n",
       "50%      0.000000    0.000000    1.000000    0.000000    0.000000    1.000000   \n",
       "75%      0.000000    0.000000    1.000000    0.000000    0.000000    1.000000   \n",
       "max      1.000000    1.000000    1.000000    1.000000    1.000000    1.000000   \n",
       "\n",
       "       nname_scaled   Fare_scaled  nTicket_scaled  mname_scaled  \n",
       "count  8.910000e+02  8.910000e+02    8.910000e+02  8.910000e+02  \n",
       "mean  -8.223874e-17 -4.373606e-17   -1.031411e-16  1.467837e-16  \n",
       "std    1.000562e+00  1.000562e+00    1.000562e+00  1.000562e+00  \n",
       "min   -1.744574e+00 -6.484217e-01   -1.798401e+00 -2.247384e+00  \n",
       "25%   -8.575203e-01 -4.891482e-01   -8.589576e-01 -1.142627e-01  \n",
       "50%   -1.874201e-02 -3.573909e-01    2.734545e-02  6.614177e-01  \n",
       "75%    8.441738e-01 -2.424635e-02    8.339382e-01  6.614177e-01  \n",
       "max    1.767433e+00  9.667167e+00    1.720241e+00  1.049258e+00  "
      ]
     },
     "execution_count": 25,
     "metadata": {},
     "output_type": "execute_result"
    }
   ],
   "source": [
    "data_train.describe()"
   ]
  },
  {
   "cell_type": "code",
   "execution_count": 26,
   "metadata": {
    "collapsed": false,
    "scrolled": true
   },
   "outputs": [
    {
     "data": {
      "text/plain": [
       "SVC(C=1.0, cache_size=200, class_weight=None, coef0=0.0,\n",
       "  decision_function_shape=None, degree=3, gamma='auto', kernel='rbf',\n",
       "  max_iter=-1, probability=False, random_state=None, shrinking=True,\n",
       "  tol=0.001, verbose=False)"
      ]
     },
     "execution_count": 26,
     "metadata": {},
     "output_type": "execute_result"
    }
   ],
   "source": [
    "from sklearn.svm import SVC\n",
    "\n",
    "# 用正则取出我们要的属性值\n",
    "train_df = data_train.filter(regex='Survived|ages|SibSp|Parch|Fare_.*|Cabin|Embarked_.*|Sex|Pclass_.*|mname_.*|nname_.*|nTicket_.*')\n",
    "train_np = train_df.as_matrix()\n",
    "\n",
    "# y即Survival结果\n",
    "y =[int(i) for i in  train_np[:, 0]] \n",
    "\n",
    "# X即特征属性值\n",
    "X = train_np[:, 1:]\n",
    "\n",
    "# fit到RandomForestRegressor之中\n",
    "clf = SVC()\n",
    "clf.fit(X, y)\n",
    "\n",
    "clf"
   ]
  },
  {
   "cell_type": "markdown",
   "metadata": {},
   "source": [
    "#####  Baseline Model -logistic regression"
   ]
  },
  {
   "cell_type": "markdown",
   "metadata": {},
   "source": [
    "good，很顺利，我们得到了一个model\n",
    "先淡定！淡定！你以为把test.csv直接丢进model里就能拿到结果啊…骚年，图样图森破啊！\n",
    "\n",
    "我们的”test_data”也要做和”train_data”一样的预处理啊！！"
   ]
  },
  {
   "cell_type": "markdown",
   "metadata": {},
   "source": [
    "不错不错，数据很OK，差最后一步了。\n",
    "下面就做预测取结果吧！！"
   ]
  },
  {
   "cell_type": "markdown",
   "metadata": {},
   "source": [
    "# 4.逻辑回归系统优化"
   ]
  },
  {
   "cell_type": "markdown",
   "metadata": {},
   "source": [
    "###### 4.1 模型系数关联分析\n",
    "\n",
    "亲，你以为结果提交上了，就完事了？\n",
    "我不会告诉你，这只是万里长征第一步啊(泪牛满面)！！！这才刚撸完baseline model啊！！！还得优化啊！！！\n",
    "\n",
    ">我们应该分析分析模型现在的状态了，是过/欠拟合？\n",
    "\n",
    ">以确定我们需要更多的特征还是更多数据，或者其他操作。\n",
    "\n",
    "我们有一条很著名的learning curves对吧。\n",
    "\n",
    "不过在现在的场景下，先不着急做这个事情，我们这个baseline系统还有些粗糙，先再挖掘挖掘。"
   ]
  },
  {
   "cell_type": "markdown",
   "metadata": {},
   "source": [
    "> * 首先，Name和Ticket两个属性被我们完整舍弃了(好吧，其实是因为这俩属性，几乎每一条记录都是一个完全不同的值，我们并没有找到很直接的处理方式)。\n",
    "\n",
    "> * 然后，我们想想，年龄的拟合本身也未必是一件非常靠谱的事情，我们依据其余属性，其实并不能很好地拟合预测出未知的年龄。\n",
    "> * 再一个，以我们的日常经验，小盆友和老人可能得到的照顾会多一些，这样看的话，年龄作为一个连续值，给一个固定的系数，应该和年龄是一个正相关或者负相关，似乎体现不出两头受照顾的实际情况，所以，说不定我们把年龄离散化，按区段分作类别属性会更合适一些。\n",
    "\n",
    "把得到的model系数和feature关联起来看看\n"
   ]
  },
  {
   "cell_type": "markdown",
   "metadata": {},
   "source": [
    "首先，大家回去前两篇文章里瞄一眼公式就知道，这些系数为正的特征，和最后结果是一个正相关，反之为负相关。\n",
    "\n",
    "我们先看看那些权重绝对值非常大的feature，在我们的模型上：\n",
    "\n",
    "> * Sex属性，如果是female会极大提高最后获救的概率，而male会很大程度拉低这个概率。\n",
    "> * Pclass属性，1等舱乘客最后获救的概率会上升，而乘客等级为3会极大地拉低这个概率。\n",
    "> *  有Cabin值会很大程度拉升最后获救概率(这里似乎能看到了一点端倪，事实上从最上面的有无Cabin记录的Survived分布图上看出，即使有Cabin记录的乘客也有一部分遇难了，估计这个属性上我们挖掘还不够)\n",
    "> *   Age是一个负相关，意味着在我们的模型里，年龄越小，越有获救的优先权(还得回原数据看看这个是否合理）\n",
    "> *   有一个登船港口S会很大程度拉低获救的概率，另外俩港口压根就没啥作用(这个实际上非常奇怪，因为我们从之前的统计图上并没有看到S港口的获救率非常低，所以也许可以考虑把登船港口这个feature去掉试试)。\n",
    "> *  船票Fare有小幅度的正相关(并不意味着这个feature作用不大，有可能是我们细化的程度还不够，举个例子，说不定我们得对它离散化，再分至各个乘客等级上？)\n"
   ]
  },
  {
   "cell_type": "markdown",
   "metadata": {},
   "source": [
    "###### 4.2 交叉验证\n",
    "\n",
    "重点又来了：\n",
    "\n",
    "> *  『要做交叉验证(cross validation)!』\n",
    "> *  『要做交叉验证(cross validation)!』\n",
    "> *  『要做交叉验证(cross validation)!』\n",
    "\n",
    "恩，重要的事情说三遍。我们通常情况下，这么做cross validation：把train.csv分成两部分，一部分用于训练我们需要的模型，另外一部分数据上看我们预测算法的效果。\n",
    "\n",
    "我们用scikit-learn的cross_validation来帮我们完成小数据集上的这个工作。\n",
    "\n",
    "先简单看看cross validation情况下的打分"
   ]
  },
  {
   "cell_type": "markdown",
   "metadata": {},
   "source": [
    "等等，既然我们要做交叉验证，那我们干脆先把交叉验证里面的bad case拿出来看看，看看人眼审核，是否能发现什么蛛丝马迹，是我们忽略了哪些信息，使得这些乘客被判定错了。再把bad case上得到的想法和前头系数分析的合在一起，然后逐个试试。\n",
    "\n",
    "下面我们做数据分割，并且在原始数据集上瞄一眼bad case："
   ]
  },
  {
   "cell_type": "markdown",
   "metadata": {},
   "source": [
    "大家可以自己跑一遍试试，拿到bad cases之后，仔细看看。也会有一些猜测和想法。其中会有一部分可能会印证在系数分析部分的猜测，那这些优化的想法优先级可以放高一些。\n",
    "\n",
    "现在有了”train_df” 和 “vc_df” 两个数据部分，前者用于训练model，后者用于评定和选择模型。可以开始可劲折腾了。\n",
    "\n",
    "我们随便列一些可能可以做的优化操作："
   ]
  },
  {
   "cell_type": "markdown",
   "metadata": {},
   "source": [
    "大家接着往下挖掘，可能还可以想到更多可以细挖的部分。我这里先列这些了，然后我们可以使用手头上的”train_df”和”cv_df”开始试验这些feature engineering的tricks是否有效了。\n",
    "\n",
    "试验的过程比较漫长，也需要有耐心，而且我们经常会面临很尴尬的状况，就是我们灵光一闪，想到一个feature，然后坚信它一定有效，结果试验下来，效果还不如试验之前的结果。恩，需要坚持和耐心，以及不断的挖掘。"
   ]
  },
  {
   "cell_type": "markdown",
   "metadata": {},
   "source": [
    "###### 4.3 learning curves\n",
    "\n",
    "有一个很可能发生的问题是，我们不断地做feature engineering，产生的特征越来越多，用这些特征去训练模型，会对我们的训练集拟合得越来越好，同时也可能在逐步丧失泛化能力，从而在待预测的数据上，表现不佳，也就是发生过拟合问题。\n",
    "\n",
    "从另一个角度上说，如果模型在待预测的数据上表现不佳，除掉上面说的过拟合问题，也有可能是欠拟合问题，也就是说在训练集上，其实拟合的也不是那么好。\n",
    "\n",
    "额，这个欠拟合和过拟合怎么解释呢。这么说吧：\n",
    "\n",
    "    过拟合就像是你班那个学数学比较刻板的同学，老师讲过的题目，一字不漏全记下来了，于是老师再出一样的题目，分分钟精确出结果。but数学考试，因为总是碰到新题目，所以成绩不咋地。\n",
    "    欠拟合就像是，咳咳，和博主level差不多的差生。连老师讲的练习题也记不住，于是连老师出一样题目复习的周测都做不好，考试更是可想而知了。\n",
    "\n",
    "而在机器学习的问题上，对于过拟合和欠拟合两种情形。我们优化的方式是不同的。"
   ]
  },
  {
   "cell_type": "markdown",
   "metadata": {},
   "source": [
    "***对过拟合而言，通常以下策略对结果优化是有用的：***\n",
    ">做一下feature selection，挑出较好的feature的subset来做training\n",
    "\n",
    ">提供更多的数据，从而弥补原始数据的bias问题，学习到的model也会更准确\n",
    "\n",
    "***而对于欠拟合而言，我们通常需要更多的feature，更复杂的模型来提高准确度。***"
   ]
  },
  {
   "cell_type": "markdown",
   "metadata": {},
   "source": [
    "著名的learning curve可以帮我们判定我们的模型现在所处的状态。我们以样本数为横坐标，训练和交叉验证集上的错误率作为纵坐标，两种状态分别如下两张图所示：过拟合(overfitting/high variace)，欠拟合(underfitting/high bias)"
   ]
  },
  {
   "cell_type": "markdown",
   "metadata": {},
   "source": [
    "<img title=\"\" alt=\"过拟合\" src=\"http://7xo0y8.com1.z0.glb.clouddn.com/2_titanic/high_variance.png?imageView/2/w/400/q/100\">\n",
    "<img title=\"\" alt=\"欠拟合\" src=\"http://7xo0y8.com1.z0.glb.clouddn.com/2_titanic/high_bias.png?imageView/2/w/400/q/100\">"
   ]
  },
  {
   "cell_type": "markdown",
   "metadata": {},
   "source": [
    "我们也可以把错误率替换成准确率(得分)，得到另一种形式的learning curve(sklearn 里面是这么做的)。\n",
    "\n",
    "回到我们的问题，我们用scikit-learn里面的learning_curve来帮我们分辨我们模型的状态。举个例子，这里我们一起画一下我们最先得到的baseline model的learning curve。"
   ]
  },
  {
   "cell_type": "code",
   "execution_count": 27,
   "metadata": {
    "collapsed": false,
    "scrolled": true
   },
   "outputs": [
    {
     "data": {
      "image/png": "[encoded data removed]",
      "text/plain": [
       "<matplotlib.figure.Figure at 0x4a599d0>"
      ]
     },
     "metadata": {},
     "output_type": "display_data"
    },
    {
     "data": {
      "text/plain": [
       "(0.82956504070987003, 0.022766445056103479)"
      ]
     },
     "execution_count": 27,
     "metadata": {},
     "output_type": "execute_result"
    },
    {
     "data": {
      "image/png": "[encoded data removed]",
      "text/plain": [
       "<matplotlib.figure.Figure at 0x933fe70>"
      ]
     },
     "metadata": {},
     "output_type": "display_data"
    }
   ],
   "source": [
    "import numpy as np\n",
    "import matplotlib.pyplot as plt\n",
    "from sklearn.learning_curve import learning_curve\n",
    "\n",
    "# 用sklearn的learning_curve得到training_score和cv_score，使用matplotlib画出learning curve\n",
    "def plot_learning_curve(estimator, title, X, y, ylim=None, cv=None, n_jobs=1, \n",
    "                        train_sizes=np.linspace(.05, 1., 20), verbose=0, plot=True):\n",
    "    \"\"\"\n",
    "    画出data在某模型上的learning curve.\n",
    "    参数解释\n",
    "    ----------\n",
    "    estimator : 你用的分类器。\n",
    "    title : 表格的标题。\n",
    "    X : 输入的feature，numpy类型\n",
    "    y : 输入的target vector\n",
    "    ylim : tuple格式的(ymin, ymax), 设定图像中纵坐标的最低点和最高点\n",
    "    cv : 做cross-validation的时候，数据分成的份数，其中一份作为cv集，其余n-1份作为training(默认为3份)\n",
    "    n_jobs : 并行的的任务数(默认1)\n",
    "    \"\"\"\n",
    "    train_sizes, train_scores, test_scores = learning_curve(\n",
    "        estimator, X, y, cv=cv, n_jobs=n_jobs, train_sizes=train_sizes, verbose=verbose)\n",
    "\n",
    "    train_scores_mean = np.mean(train_scores, axis=1)\n",
    "    train_scores_std = np.std(train_scores, axis=1)\n",
    "    test_scores_mean = np.mean(test_scores, axis=1)\n",
    "    test_scores_std = np.std(test_scores, axis=1)\n",
    "\n",
    "    if plot:\n",
    "        plt.figure()\n",
    "        plt.title(title)\n",
    "        if ylim is not None:\n",
    "            plt.ylim(*ylim)\n",
    "        plt.xlabel(u\"训练样本数\")\n",
    "        plt.ylabel(u\"得分\")\n",
    "        plt.gca().invert_yaxis()\n",
    "        plt.grid()\n",
    "\n",
    "        plt.fill_between(train_sizes, train_scores_mean - train_scores_std, train_scores_mean + train_scores_std, \n",
    "                         alpha=0.1, color=\"b\")\n",
    "        plt.fill_between(train_sizes, test_scores_mean - test_scores_std, test_scores_mean + test_scores_std, \n",
    "                         alpha=0.1, color=\"r\")\n",
    "        plt.plot(train_sizes, train_scores_mean, 'o-', color=\"b\", label=u\"训练集上得分\")\n",
    "        plt.plot(train_sizes, test_scores_mean, 'o-', color=\"r\", label=u\"交叉验证集上得分\")\n",
    "\n",
    "        plt.legend(loc=\"best\")\n",
    "\n",
    "        plt.draw()\n",
    "        plt.show()\n",
    "        plt.gca().invert_yaxis()\n",
    "\n",
    "    midpoint = ((train_scores_mean[-1] + train_scores_std[-1]) + (test_scores_mean[-1] - test_scores_std[-1])) / 2\n",
    "    diff = (train_scores_mean[-1] + train_scores_std[-1]) - (test_scores_mean[-1] - test_scores_std[-1])\n",
    "    return midpoint, diff\n",
    "\n",
    "plot_learning_curve(clf, u\"plot_learning_curve\", X, y)"
   ]
  },
  {
   "cell_type": "markdown",
   "metadata": {},
   "source": [
    "在实际数据上看，我们得到的learning curve没有理论推导的那么光滑哈，但是可以大致看出来，训练集和交叉验证集上的得分曲线走势还是符合预期的。\n",
    "\n",
    "目前的曲线看来，我们的model并不处于overfitting的状态(overfitting的表现一般是训练集上得分高，而交叉验证集上要低很多，中间的gap比较大)。因此我们可以再做些feature engineering的工作，添加一些新产出的特征或者组合特征到模型中。"
   ]
  },
  {
   "cell_type": "markdown",
   "metadata": {},
   "source": [
    "#####  GridSearch"
   ]
  },
  {
   "cell_type": "code",
   "execution_count": 28,
   "metadata": {
    "collapsed": false
   },
   "outputs": [
    {
     "data": {
      "text/plain": [
       "GridSearchCV(cv=None, error_score='raise',\n",
       "       estimator=SVC(C=1.0, cache_size=200, class_weight=None, coef0=0.0,\n",
       "  decision_function_shape=None, degree=3, gamma='auto', kernel='rbf',\n",
       "  max_iter=-1, probability=False, random_state=None, shrinking=True,\n",
       "  tol=0.001, verbose=False),\n",
       "       fit_params={}, iid=True, n_jobs=1,\n",
       "       param_grid={'kernel': ('linear', 'rbf'), 'C': array([  0.1,   1.2,   2.3,   3.4,   4.5,   5.6,   6.7,   7.8,   8.9,  10. ]), 'gamma': array([  0.1,   1.2,   2.3,   3.4,   4.5,   5.6,   6.7,   7.8,   8.9,  10. ])},\n",
       "       pre_dispatch='2*n_jobs', refit=True, return_train_score=True,\n",
       "       scoring=None, verbose=0)"
      ]
     },
     "execution_count": 28,
     "metadata": {},
     "output_type": "execute_result"
    }
   ],
   "source": [
    "from sklearn import svm\n",
    "from sklearn.model_selection import GridSearchCV\n",
    "\n",
    "parameters = {'kernel':('linear', 'rbf'), 'C':np.linspace(0.1, 10, num=10), 'gamma': np.linspace(0.1, 10, num=10)}\n",
    "svr = svm.SVC()\n",
    "clfcv = GridSearchCV(svr, parameters)\n",
    "clfcv.fit(X, y)\n"
   ]
  },
  {
   "cell_type": "code",
   "execution_count": 29,
   "metadata": {
    "collapsed": false,
    "scrolled": true
   },
   "outputs": [
    {
     "name": "stdout",
     "output_type": "stream",
     "text": [
      "SVC(C=1.2000000000000002, cache_size=200, class_weight=None, coef0=0.0,\n",
      "  decision_function_shape=None, degree=3, gamma=0.10000000000000001,\n",
      "  kernel='rbf', max_iter=-1, probability=False, random_state=None,\n",
      "  shrinking=True, tol=0.001, verbose=False)\n"
     ]
    }
   ],
   "source": [
    "print clfcv.best_estimator_"
   ]
  },
  {
   "cell_type": "code",
   "execution_count": 30,
   "metadata": {
    "collapsed": false,
    "scrolled": true
   },
   "outputs": [
    {
     "data": {
      "image/png": "[encoded data removed]",
      "text/plain": [
       "<matplotlib.figure.Figure at 0x9835690>"
      ]
     },
     "metadata": {},
     "output_type": "display_data"
    },
    {
     "data": {
      "text/plain": [
       "(0.83657069362187397, 0.1139601892883052)"
      ]
     },
     "execution_count": 30,
     "metadata": {},
     "output_type": "execute_result"
    },
    {
     "data": {
      "image/png": "[encoded data removed]",
      "text/plain": [
       "<matplotlib.figure.Figure at 0x9839db0>"
      ]
     },
     "metadata": {},
     "output_type": "display_data"
    }
   ],
   "source": [
    "plot_learning_curve(clfcv, u\"plot_learning_curve\", X, y)"
   ]
  },
  {
   "cell_type": "code",
   "execution_count": 31,
   "metadata": {
    "collapsed": false
   },
   "outputs": [],
   "source": [
    "testnp = data_test.filter(regex='ages|SibSp|Parch|Fare_.*|Cabin|Embarked_.*|Sex|Pclass_.*|mname_.*|nname_.*|nTicket_.*')\n",
    "test = testnp.as_matrix()\n",
    "\n",
    "predictions = clfcv.predict(test)\n",
    "result = pd.DataFrame({'PassengerId':data_test['PassengerId'].as_matrix(), 'Survived':predictions.astype(np.int32)})\n",
    "result.to_csv(\"logistic_regression_bagging_predictions_mycv1.csv\", index=False)"
   ]
  },
  {
   "cell_type": "code",
   "execution_count": 32,
   "metadata": {
    "collapsed": false
   },
   "outputs": [
    {
     "data": {
      "text/plain": [
       "['clfcv1.pck']"
      ]
     },
     "execution_count": 32,
     "metadata": {},
     "output_type": "execute_result"
    }
   ],
   "source": [
    "from sklearn.externals import joblib\n",
    "joblib.dump(clfcv,'clfcv1.pck')\n"
   ]
  },
  {
   "cell_type": "markdown",
   "metadata": {},
   "source": [
    "# 5.模型融合(model ensemble)\n",
    "\n",
    "好了，终于到这一步了，我们要祭出机器学习/数据挖掘上通常最后会用到的大杀器了。恩，模型融合。\n",
    "\n",
    "『强迫症患者』打算继续喊喊口号…\n",
    ">* 『模型融合(model ensemble)很重要！』\n",
    ">* 『模型融合(model ensemble)很重要！』\n",
    ">* 『模型融合(model ensemble)很重要！』\n",
    "重要的事情说三遍，恩，噢啦。\n",
    "\n",
    "先解释解释，一会儿再回到我们的问题上哈。\n",
    "啥叫模型融合呢，我们还是举几个例子直观理解一下好了。\n",
    "\n",
    "大家都看过知识问答的综艺节目中，求助现场观众时候，让观众投票，最高的答案作为自己的答案的形式吧，每个人都有一个判定结果，最后我们相信答案在大多数人手里。\n",
    "\n",
    "再通俗一点举个例子。你和你班某数学大神关系好，每次作业都『模仿』他的，于是绝大多数情况下，他做对了，你也对了。突然某一天大神脑子犯糊涂，手一抖，写错了一个数，于是…恩，你也只能跟着错了。\n",
    "我们再来看看另外一个场景，你和你班5个数学大神关系都很好，每次都把他们作业拿过来，对比一下，再『自己做』，那你想想，如果哪天某大神犯糊涂了，写错了，but另外四个写对了啊，那你肯定相信另外4人的是正确答案吧？"
   ]
  },
  {
   "cell_type": "markdown",
   "metadata": {},
   "source": [
    "最简单的模型融合大概就是这么个意思，比如分类问题，当我们手头上有一堆在同一份数据集上训练得到的分类器(比如logistic regression，SVM，KNN，random forest，神经网络)，那我们让他们都分别去做判定，然后对结果做投票统计，取票数最多的结果为最后结果。\n",
    "\n",
    "bingo，问题就这么完美的解决了。"
   ]
  },
  {
   "cell_type": "markdown",
   "metadata": {},
   "source": [
    "###### 模型融合可以比较好地缓解，训练过程中产生的过拟合问题，从而对于结果的准确度提升有一定的帮助。\n",
    "\n",
    "话说回来，回到我们现在的问题。你看，我们现在只讲了logistic regression，如果我们还想用这个融合思想去提高我们的结果，我们该怎么做呢？\n",
    "\n",
    "既然这个时候模型没得选，那咱们就在数据上动动手脚咯。大家想想，如果模型出现过拟合现在，一定是在我们的训练上出现拟合过度造成的对吧。\n",
    "\n",
    "那我们干脆就不要用全部的训练集，\n",
    ">*   ***每次取训练集的一个subset，做训练***\n",
    "> *  *** 这样，我们虽然用的是同一个机器学习算法，但是得到的模型却是不一样的；***\n",
    ">*   ***同时，因为我们没有任何一份子数据集是全的，因此即使出现过拟合，也是在子训练集上出现过拟合，而不是全体数据***\n",
    ">*   ***这样做一个融合，可能对最后的结果有一定 的帮助。对，这就是常用的Bagging。***\\\n",
    "\n",
    "我们用scikit-learn里面的Bagging来完成上面的思路，过程非常简单。代码如下："
   ]
  },
  {
   "cell_type": "code",
   "execution_count": null,
   "metadata": {
    "collapsed": true
   },
   "outputs": [],
   "source": [
    "from sklearn.ensemble import BaggingRegressor\n",
    "\n",
    "bagging_clf = BaggingRegressor(clfcv, n_estimators=5, max_samples=0.8, max_features=1.0, bootstrap=True, bootstrap_features=False, n_jobs=-1)\n",
    "bagging_clf.fit(X, y)\n",
    "\n",
    "predictions = bagging_clf.predict(test)\n",
    "result = pd.DataFrame({'PassengerId':data_test['PassengerId'].as_matrix(), 'Survived':predictions.astype(np.int32)})\n",
    "result.to_csv(\"logistic_regression_bagging_predictions_mybag.csv\", index=False)"
   ]
  },
  {
   "cell_type": "code",
   "execution_count": null,
   "metadata": {
    "collapsed": true
   },
   "outputs": [],
   "source": [
    "from sklearn.naive_bayes import GaussianNB\n",
    "gnb = GaussianNB()\n",
    "gnb.fit(X,y)\n",
    "plot_learning_curve(gnb, u\"plot_learning_curve\", X, y)"
   ]
  },
  {
   "cell_type": "markdown",
   "metadata": {},
   "source": [
    "# 6.总结\n",
    "\n",
    "文章稍微有点长，非常感谢各位耐心看到这里。\n",
    "总结的部分，我就简短写几段，出现的话，很多在文中有对应的场景，大家有兴趣再回头看看。\n",
    "\n",
    "对于任何的机器学习问题，不要一上来就追求尽善尽美，先用自己会的算法撸一个baseline的model出来，再进行后续的分析步骤，一步步提高。\n",
    "\n",
    "在问题的结果过程中：\n",
    "\n",
    ">*   ***『对数据的认识太重要了！』***『\n",
    ">*   ***『数据中的特殊点/离群点的分析和处理太重要了！』***『\n",
    ">*   ***『特征工程(feature engineering)太重要了！』***『\n",
    ">*   *** 『模型融合(model ensemble)太重要了！』***『\n"
   ]
  },
  {
   "cell_type": "markdown",
   "metadata": {},
   "source": [
    "<img title=\"\" alt=\"机器学习解决问题的过程\" src=\"http://7xo0y8.com1.z0.glb.clouddn.com/2_titanic/process.png?imageView/2/w/700/q/100\">"
   ]
  },
  {
   "cell_type": "code",
   "execution_count": null,
   "metadata": {
    "collapsed": true
   },
   "outputs": [],
   "source": []
  }
 ],
 "metadata": {
  "kernelspec": {
   "display_name": "Python 2",
   "language": "python",
   "name": "python2"
  },
  "language_info": {
   "codemirror_mode": {
    "name": "ipython",
    "version": 2
   },
   "file_extension": ".py",
   "mimetype": "text/x-python",
   "name": "python",
   "nbconvert_exporter": "python",
   "pygments_lexer": "ipython2",
   "version": "2.7.11"
  }
 },
 "nbformat": 4,
 "nbformat_minor": 0
}
